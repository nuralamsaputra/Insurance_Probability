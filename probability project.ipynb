{
 "cells": [
  {
   "cell_type": "code",
   "execution_count": 1,
   "id": "1f4bc2aa",
   "metadata": {},
   "outputs": [],
   "source": [
    "import pandas as pd\n",
    "import numpy as np\n",
    "import matplotlib.ticker as ticker\n",
    "import matplotlib.pyplot as plt\n",
    "import seaborn as sns\n",
    "from scipy.stats import ttest_ind\n",
    "\n",
    "import warnings\n",
    "warnings.filterwarnings(\"ignore\")"
   ]
  },
  {
   "cell_type": "code",
   "execution_count": 2,
   "id": "1c4ce1fe",
   "metadata": {},
   "outputs": [],
   "source": [
    "insurance = pd.read_csv(\"C:\\\\Users\\\\nural\\\\OneDrive\\\\Documents\\\\Learn Data\\\\Pacmann Project\\\\Probability Project\\\\insurance.csv\")"
   ]
  },
  {
   "cell_type": "code",
   "execution_count": 3,
   "id": "d06e670f",
   "metadata": {},
   "outputs": [
    {
     "data": {
      "text/html": [
       "<div>\n",
       "<style scoped>\n",
       "    .dataframe tbody tr th:only-of-type {\n",
       "        vertical-align: middle;\n",
       "    }\n",
       "\n",
       "    .dataframe tbody tr th {\n",
       "        vertical-align: top;\n",
       "    }\n",
       "\n",
       "    .dataframe thead th {\n",
       "        text-align: right;\n",
       "    }\n",
       "</style>\n",
       "<table border=\"1\" class=\"dataframe\">\n",
       "  <thead>\n",
       "    <tr style=\"text-align: right;\">\n",
       "      <th></th>\n",
       "      <th>age</th>\n",
       "      <th>sex</th>\n",
       "      <th>bmi</th>\n",
       "      <th>children</th>\n",
       "      <th>smoker</th>\n",
       "      <th>region</th>\n",
       "      <th>charges</th>\n",
       "    </tr>\n",
       "  </thead>\n",
       "  <tbody>\n",
       "    <tr>\n",
       "      <th>0</th>\n",
       "      <td>19</td>\n",
       "      <td>female</td>\n",
       "      <td>27.900</td>\n",
       "      <td>0</td>\n",
       "      <td>yes</td>\n",
       "      <td>southwest</td>\n",
       "      <td>16884.92400</td>\n",
       "    </tr>\n",
       "    <tr>\n",
       "      <th>1</th>\n",
       "      <td>18</td>\n",
       "      <td>male</td>\n",
       "      <td>33.770</td>\n",
       "      <td>1</td>\n",
       "      <td>no</td>\n",
       "      <td>southeast</td>\n",
       "      <td>1725.55230</td>\n",
       "    </tr>\n",
       "    <tr>\n",
       "      <th>2</th>\n",
       "      <td>28</td>\n",
       "      <td>male</td>\n",
       "      <td>33.000</td>\n",
       "      <td>3</td>\n",
       "      <td>no</td>\n",
       "      <td>southeast</td>\n",
       "      <td>4449.46200</td>\n",
       "    </tr>\n",
       "    <tr>\n",
       "      <th>3</th>\n",
       "      <td>33</td>\n",
       "      <td>male</td>\n",
       "      <td>22.705</td>\n",
       "      <td>0</td>\n",
       "      <td>no</td>\n",
       "      <td>northwest</td>\n",
       "      <td>21984.47061</td>\n",
       "    </tr>\n",
       "    <tr>\n",
       "      <th>4</th>\n",
       "      <td>32</td>\n",
       "      <td>male</td>\n",
       "      <td>28.880</td>\n",
       "      <td>0</td>\n",
       "      <td>no</td>\n",
       "      <td>northwest</td>\n",
       "      <td>3866.85520</td>\n",
       "    </tr>\n",
       "  </tbody>\n",
       "</table>\n",
       "</div>"
      ],
      "text/plain": [
       "   age     sex     bmi  children smoker     region      charges\n",
       "0   19  female  27.900         0    yes  southwest  16884.92400\n",
       "1   18    male  33.770         1     no  southeast   1725.55230\n",
       "2   28    male  33.000         3     no  southeast   4449.46200\n",
       "3   33    male  22.705         0     no  northwest  21984.47061\n",
       "4   32    male  28.880         0     no  northwest   3866.85520"
      ]
     },
     "execution_count": 3,
     "metadata": {},
     "output_type": "execute_result"
    }
   ],
   "source": [
    "insurance.head()"
   ]
  },
  {
   "cell_type": "code",
   "execution_count": 4,
   "id": "d465a2fb",
   "metadata": {},
   "outputs": [
    {
     "data": {
      "text/plain": [
       "age         0\n",
       "sex         0\n",
       "bmi         0\n",
       "children    0\n",
       "smoker      0\n",
       "region      0\n",
       "charges     0\n",
       "dtype: int64"
      ]
     },
     "execution_count": 4,
     "metadata": {},
     "output_type": "execute_result"
    }
   ],
   "source": [
    "# check null data\n",
    "insurance.isna().sum()"
   ]
  },
  {
   "cell_type": "code",
   "execution_count": 5,
   "id": "f5630492",
   "metadata": {},
   "outputs": [
    {
     "data": {
      "text/plain": [
       "age                         38\n",
       "sex                   malemale\n",
       "bmi                      61.18\n",
       "children                     0\n",
       "smoker                    nono\n",
       "region      northwestnorthwest\n",
       "charges              3279.1262\n",
       "dtype: object"
      ]
     },
     "execution_count": 5,
     "metadata": {},
     "output_type": "execute_result"
    }
   ],
   "source": [
    "#check duplicated data\n",
    "insurance[insurance.duplicated(keep=False)].sum()"
   ]
  },
  {
   "cell_type": "code",
   "execution_count": 6,
   "id": "eac6259b",
   "metadata": {},
   "outputs": [],
   "source": [
    "#drop duplicated data\n",
    "insurance.drop_duplicates(keep='first', inplace=True)"
   ]
  },
  {
   "cell_type": "code",
   "execution_count": 7,
   "id": "aa834503",
   "metadata": {},
   "outputs": [
    {
     "name": "stdout",
     "output_type": "stream",
     "text": [
      "<class 'pandas.core.frame.DataFrame'>\n",
      "Int64Index: 1337 entries, 0 to 1337\n",
      "Data columns (total 7 columns):\n",
      " #   Column    Non-Null Count  Dtype  \n",
      "---  ------    --------------  -----  \n",
      " 0   age       1337 non-null   int64  \n",
      " 1   sex       1337 non-null   object \n",
      " 2   bmi       1337 non-null   float64\n",
      " 3   children  1337 non-null   int64  \n",
      " 4   smoker    1337 non-null   object \n",
      " 5   region    1337 non-null   object \n",
      " 6   charges   1337 non-null   float64\n",
      "dtypes: float64(2), int64(2), object(3)\n",
      "memory usage: 83.6+ KB\n"
     ]
    }
   ],
   "source": [
    "# Check Datatype\n",
    "insurance.info()"
   ]
  },
  {
   "cell_type": "code",
   "execution_count": 8,
   "id": "31a15f54",
   "metadata": {},
   "outputs": [
    {
     "data": {
      "text/html": [
       "<div>\n",
       "<style scoped>\n",
       "    .dataframe tbody tr th:only-of-type {\n",
       "        vertical-align: middle;\n",
       "    }\n",
       "\n",
       "    .dataframe tbody tr th {\n",
       "        vertical-align: top;\n",
       "    }\n",
       "\n",
       "    .dataframe thead th {\n",
       "        text-align: right;\n",
       "    }\n",
       "</style>\n",
       "<table border=\"1\" class=\"dataframe\">\n",
       "  <thead>\n",
       "    <tr style=\"text-align: right;\">\n",
       "      <th></th>\n",
       "      <th>count</th>\n",
       "      <th>unique</th>\n",
       "      <th>top</th>\n",
       "      <th>freq</th>\n",
       "      <th>mean</th>\n",
       "      <th>std</th>\n",
       "      <th>min</th>\n",
       "      <th>25%</th>\n",
       "      <th>50%</th>\n",
       "      <th>75%</th>\n",
       "      <th>max</th>\n",
       "    </tr>\n",
       "  </thead>\n",
       "  <tbody>\n",
       "    <tr>\n",
       "      <th>age</th>\n",
       "      <td>1337.0</td>\n",
       "      <td>NaN</td>\n",
       "      <td>NaN</td>\n",
       "      <td>NaN</td>\n",
       "      <td>39.222139</td>\n",
       "      <td>14.044333</td>\n",
       "      <td>18.0</td>\n",
       "      <td>27.0</td>\n",
       "      <td>39.0</td>\n",
       "      <td>51.0</td>\n",
       "      <td>64.0</td>\n",
       "    </tr>\n",
       "    <tr>\n",
       "      <th>sex</th>\n",
       "      <td>1337</td>\n",
       "      <td>2</td>\n",
       "      <td>male</td>\n",
       "      <td>675</td>\n",
       "      <td>NaN</td>\n",
       "      <td>NaN</td>\n",
       "      <td>NaN</td>\n",
       "      <td>NaN</td>\n",
       "      <td>NaN</td>\n",
       "      <td>NaN</td>\n",
       "      <td>NaN</td>\n",
       "    </tr>\n",
       "    <tr>\n",
       "      <th>bmi</th>\n",
       "      <td>1337.0</td>\n",
       "      <td>NaN</td>\n",
       "      <td>NaN</td>\n",
       "      <td>NaN</td>\n",
       "      <td>30.663452</td>\n",
       "      <td>6.100468</td>\n",
       "      <td>15.96</td>\n",
       "      <td>26.29</td>\n",
       "      <td>30.4</td>\n",
       "      <td>34.7</td>\n",
       "      <td>53.13</td>\n",
       "    </tr>\n",
       "    <tr>\n",
       "      <th>children</th>\n",
       "      <td>1337.0</td>\n",
       "      <td>NaN</td>\n",
       "      <td>NaN</td>\n",
       "      <td>NaN</td>\n",
       "      <td>1.095737</td>\n",
       "      <td>1.205571</td>\n",
       "      <td>0.0</td>\n",
       "      <td>0.0</td>\n",
       "      <td>1.0</td>\n",
       "      <td>2.0</td>\n",
       "      <td>5.0</td>\n",
       "    </tr>\n",
       "    <tr>\n",
       "      <th>smoker</th>\n",
       "      <td>1337</td>\n",
       "      <td>2</td>\n",
       "      <td>no</td>\n",
       "      <td>1063</td>\n",
       "      <td>NaN</td>\n",
       "      <td>NaN</td>\n",
       "      <td>NaN</td>\n",
       "      <td>NaN</td>\n",
       "      <td>NaN</td>\n",
       "      <td>NaN</td>\n",
       "      <td>NaN</td>\n",
       "    </tr>\n",
       "    <tr>\n",
       "      <th>region</th>\n",
       "      <td>1337</td>\n",
       "      <td>4</td>\n",
       "      <td>southeast</td>\n",
       "      <td>364</td>\n",
       "      <td>NaN</td>\n",
       "      <td>NaN</td>\n",
       "      <td>NaN</td>\n",
       "      <td>NaN</td>\n",
       "      <td>NaN</td>\n",
       "      <td>NaN</td>\n",
       "      <td>NaN</td>\n",
       "    </tr>\n",
       "    <tr>\n",
       "      <th>charges</th>\n",
       "      <td>1337.0</td>\n",
       "      <td>NaN</td>\n",
       "      <td>NaN</td>\n",
       "      <td>NaN</td>\n",
       "      <td>13279.121487</td>\n",
       "      <td>12110.359656</td>\n",
       "      <td>1121.8739</td>\n",
       "      <td>4746.344</td>\n",
       "      <td>9386.1613</td>\n",
       "      <td>16657.71745</td>\n",
       "      <td>63770.42801</td>\n",
       "    </tr>\n",
       "  </tbody>\n",
       "</table>\n",
       "</div>"
      ],
      "text/plain": [
       "           count unique        top  freq          mean           std  \\\n",
       "age       1337.0    NaN        NaN   NaN     39.222139     14.044333   \n",
       "sex         1337      2       male   675           NaN           NaN   \n",
       "bmi       1337.0    NaN        NaN   NaN     30.663452      6.100468   \n",
       "children  1337.0    NaN        NaN   NaN      1.095737      1.205571   \n",
       "smoker      1337      2         no  1063           NaN           NaN   \n",
       "region      1337      4  southeast   364           NaN           NaN   \n",
       "charges   1337.0    NaN        NaN   NaN  13279.121487  12110.359656   \n",
       "\n",
       "                min       25%        50%          75%          max  \n",
       "age            18.0      27.0       39.0         51.0         64.0  \n",
       "sex             NaN       NaN        NaN          NaN          NaN  \n",
       "bmi           15.96     26.29       30.4         34.7        53.13  \n",
       "children        0.0       0.0        1.0          2.0          5.0  \n",
       "smoker          NaN       NaN        NaN          NaN          NaN  \n",
       "region          NaN       NaN        NaN          NaN          NaN  \n",
       "charges   1121.8739  4746.344  9386.1613  16657.71745  63770.42801  "
      ]
     },
     "execution_count": 8,
     "metadata": {},
     "output_type": "execute_result"
    }
   ],
   "source": [
    "# Check statistik deskriptif tiap tabel\n",
    "insurance.describe(include='all').T"
   ]
  },
  {
   "cell_type": "markdown",
   "id": "5c567f87",
   "metadata": {},
   "source": [
    "   Analisa Descriptive Statistic \n",
    "1. Berapa rata rata umur pada data tersebut?\n",
    "2. Berapa rata rata nilai BMI dari yang merokok?\n",
    "3. Apakah variansi dari tagihan kesehatan perokok dan non perokok sama?\n",
    "4. Apakah rata rata umur perempuan dan laki-laki yang merokok sama?\n",
    "5. Mana yang lebih tinggi, rata rata tagihan kesehatan perokok atau non merokok?"
   ]
  },
  {
   "cell_type": "code",
   "execution_count": 9,
   "id": "dc1d738e",
   "metadata": {},
   "outputs": [
    {
     "name": "stdout",
     "output_type": "stream",
     "text": [
      "Rata-rata umur pada data tersebut adalah 39.222139117427076\n",
      "Rata-rata nilai BMI dari yang merokok pada data tersebut adalah 30.708448905109503\n",
      "Variansi dari tagihan kesehatan perokok pada data tersebut adalah 133207311.20634921\n",
      "Variansi dari tagihan kesehatan non perokok pada data tersebut adalah 35915734.96876324\n",
      "Variansi dari tagihan kesehatan perokok dan non perokok tidak sama.\n",
      "Rata-rata umur perokok laki-laki adalah 38.44654088050314\n",
      "Rata-rata umur perokok perempuan adalah 38.608695652173914\n",
      "Rata-rata umur perokok perempuan dan laki-laki tidak sama.\n",
      "Rata-rata tagihan kesehatan perokok (32050.23183153285) lebih tinggi daripada non perokok (8440.660306508935)\n"
     ]
    }
   ],
   "source": [
    "#Berapa rata rata umur pada data tersebut?\n",
    "mean_umur = insurance['age'].mean()\n",
    "print(f\"Rata-rata umur pada data tersebut adalah {mean_umur}\")\n",
    "\n",
    "#Berapa rata rata nilai BMI dari yang merokok?\n",
    "smoker = insurance.loc[insurance['smoker'] == 'yes']\n",
    "non_smoker = insurance.loc[insurance['smoker'] == 'no']\n",
    "\n",
    "avg_bmi_smoker = smoker['bmi'].mean()\n",
    "print(f\"Rata-rata nilai BMI dari yang merokok pada data tersebut adalah {avg_bmi_smoker}\")\n",
    "\n",
    "#Apakah variansi dari tagihan kesehatan perokok dan non perokok sama?\n",
    "\n",
    "smoker_var = smoker['charges'].var()\n",
    "smoker_std = smoker['charges'].std()\n",
    "\n",
    "non_smoker_var = non_smoker['charges'].var()\n",
    "non_smoker_std = non_smoker['charges'].std()\n",
    "\n",
    "print(f\"Variansi dari tagihan kesehatan perokok pada data tersebut adalah {smoker_var}\")\n",
    "print(f\"Variansi dari tagihan kesehatan non perokok pada data tersebut adalah {non_smoker_var}\")\n",
    "print('Variansi dari tagihan kesehatan perokok dan non perokok tidak sama.')\n",
    "\n",
    "#Apakah rata rata umur perempuan dan laki-laki yang merokok sama?\n",
    "\n",
    "#smoker\n",
    "male_smoker = smoker.loc[smoker['sex'] == 'male']\n",
    "female_smoker = smoker.loc[smoker['sex'] == 'female']\n",
    "\n",
    "#non smoker\n",
    "male_non_smoker = non_smoker.loc[non_smoker['sex'] == 'male']\n",
    "female_non_smoker = non_smoker.loc[non_smoker['sex'] == 'female']\n",
    "\n",
    "#rata-rata umur male smoker\n",
    "male_smoker_age_mean = male_smoker['age'].mean()\n",
    "print(f'Rata-rata umur perokok laki-laki adalah {male_smoker_age_mean}')\n",
    "#rata-rata umur female smoker\n",
    "female_smoker_age_mean = female_smoker['age'].mean()\n",
    "print(f'Rata-rata umur perokok perempuan adalah {female_smoker_age_mean}')\n",
    "print('Rata-rata umur perokok perempuan dan laki-laki tidak sama.')\n",
    "\n",
    "# Mana yang lebih tinggi, rata rata tagihan kesehatan perokok atau non merokok?\n",
    "smoker_charges_mean = smoker['charges'].mean()\n",
    "non_smoker_charges_mean = non_smoker['charges'].mean()\n",
    "\n",
    "if smoker_charges_mean > non_smoker_charges_mean:\n",
    "    print(f\"Rata-rata tagihan kesehatan perokok ({smoker_charges_mean}) lebih tinggi daripada non perokok ({non_smoker_charges_mean})\")\n",
    "elif smoker_charges_mean < non_smoker_charges_mean:\n",
    "    print(f\"Rata-rata tagihan kesehatan perokok ({smoker_charges_mean}) lebih rendah daripada non perokok ({non_smoker_charges_mean})\")\n",
    "else :\n",
    "    print(\"Rata-rata tagihan kesehatan perokok sama dengan non perokok\")"
   ]
  },
  {
   "cell_type": "markdown",
   "id": "828f6071",
   "metadata": {},
   "source": [
    "Analisa Variabel Diskrit\n",
    "\n",
    "1. Gender mana yang memiliki tagihan paling tinggi?\n",
    "2. Distribusi peluang tagihan di tiap-tiap region\n",
    "3. Apakah setiap region memiliki proporsi data banyak orang yang sama?\n",
    "4. Mana yang lebih tinggi proporsi perokok atau non perokok?\n",
    "5. Berapa peluang seseorang tersebut adalah perempuan diketahui dia adalah perokok?\n",
    "6. Berapa peluang seseorang tersebut adalah laki-laki diketahui dia adalah perokok?\n",
    "7. Bagaimana bentuk distribusi peluang besar tagihan dari tiap-tiap region?\n"
   ]
  },
  {
   "cell_type": "code",
   "execution_count": 10,
   "id": "20f67b9f",
   "metadata": {},
   "outputs": [
    {
     "name": "stdout",
     "output_type": "stream",
     "text": [
      "Jumlah tagihan laki-laki (9433124.233040001) lebih tinggi dibanding perempuan (8321061.194619)\n",
      "Perempuan memiliki tagihan (63770.42801) lebih tinggi dibanding laki-laki (62592.87309)\n"
     ]
    }
   ],
   "source": [
    "male = insurance.loc[insurance['sex'] == 'male']\n",
    "female = insurance.loc[insurance['sex'] == 'female']\n",
    "\n",
    "# Gender mana yang memiliki tagihan paling tinggi?\n",
    "\n",
    "male_charges_sum = male['charges'].sum()\n",
    "female_charges_sum = female['charges'].sum()\n",
    "if male_charges_sum > female_charges_sum:\n",
    "    print(f\"Jumlah tagihan laki-laki ({male_charges_sum}) lebih tinggi dibanding perempuan ({female_charges_sum})\")\n",
    "elif male_charges_sum < female_charges_sum:\n",
    "    print(f\"Jumlah tagihan laki-laki ({male_charges_sum}) lebih rendah dibanding perempuan ({female_charges_sum})\")\n",
    "else :\n",
    "    print(f\"Jumlah tagihan laki-laki ({male_charges_sum}) sama dengan perempuan ({female_charges_sum})\")\n",
    "    \n",
    "male_charges_max = male['charges'].max()\n",
    "female_charges_max = female['charges'].max()\n",
    "if male_charges_max > female_charges_max:\n",
    "    print(f\"Laki-laki memiliki tagihan ({male_charges_max}) lebih tinggi dibanding perempuan ({female_charges_max})\")\n",
    "elif male_charges_max < female_charges_max:\n",
    "    print(f\"Perempuan memiliki tagihan ({female_charges_max}) lebih tinggi dibanding laki-laki ({male_charges_max})\")\n",
    "else :\n",
    "    print(f\"Laki-laki memiliki tagihan ({male_charges_max}) sama dengan perempuan ({female_charges_max})\")"
   ]
  },
  {
   "cell_type": "code",
   "execution_count": 11,
   "id": "1c85501b",
   "metadata": {},
   "outputs": [
    {
     "data": {
      "image/png": "[encoded data removed]",
      "text/plain": [
       "<Figure size 621.125x500 with 1 Axes>"
      ]
     },
     "metadata": {},
     "output_type": "display_data"
    }
   ],
   "source": [
    "# Distribusi peluang tagihan di tiap-tiap region\n",
    "\n",
    "sns.displot(insurance, x=\"charges\", hue=\"region\", kind=\"kde\", legend=True, fill=True)\n",
    "plt.title('Distribution of Charges by Region')\n",
    "plt.show()\n"
   ]
  },
  {
   "cell_type": "code",
   "execution_count": 12,
   "id": "6304661e",
   "metadata": {},
   "outputs": [
    {
     "name": "stdout",
     "output_type": "stream",
     "text": [
      "Setiap region tidak memiliki proporsi data banyak orang yang sama.\n",
      "southeast    0.272251\n",
      "southwest    0.243082\n",
      "northwest    0.242334\n",
      "northeast    0.242334\n",
      "Name: region, dtype: float64\n"
     ]
    }
   ],
   "source": [
    "# Apakah setiap region memiliki proporsi data banyak orang yang sama?\n",
    "count_by_region = insurance['region'].value_counts()\n",
    "total_count = len(insurance)\n",
    "proporsi_by_region = count_by_region / total_count\n",
    "if (proporsi_by_region - proporsi_by_region.mean()).abs().max() < 0.01:\n",
    "    print(\"Setiap region memiliki proporsi data banyak orang yang sama.\")\n",
    "    print(proporsi_by_region)\n",
    "else:\n",
    "    print(\"Setiap region tidak memiliki proporsi data banyak orang yang sama.\")\n",
    "    print(proporsi_by_region)\n"
   ]
  },
  {
   "cell_type": "code",
   "execution_count": 13,
   "id": "618bad47",
   "metadata": {},
   "outputs": [
    {
     "name": "stdout",
     "output_type": "stream",
     "text": [
      "Proporsi non perokok lebih tinggi\n",
      "no     0.795064\n",
      "yes    0.204936\n",
      "Name: smoker, dtype: float64\n"
     ]
    }
   ],
   "source": [
    "# Mana yang lebih tinggi proporsi perokok atau non perokok?\n",
    "count_by_smoker = insurance['smoker'].value_counts()\n",
    "proporsi_by_smoker = count_by_smoker / total_count\n",
    "if (proporsi_by_smoker - proporsi_by_smoker.mean()).abs().max() < 0.01:\n",
    "    print(\"Proporsi perokok lebih tinggi\")\n",
    "    print(proporsi_by_smoker)\n",
    "else:\n",
    "    print(\"Proporsi non perokok lebih tinggi\")\n",
    "    print(proporsi_by_smoker)"
   ]
  },
  {
   "cell_type": "code",
   "execution_count": 14,
   "id": "f4a8b0eb",
   "metadata": {},
   "outputs": [
    {
     "name": "stdout",
     "output_type": "stream",
     "text": [
      "Peluang seseorang tersebut adalah perempuan diketahui dia adalah perokok adalah:  0.4197080291970803\n"
     ]
    }
   ],
   "source": [
    "# Berapa peluang seseorang tersebut adalah perempuan diketahui dia adalah perokok?\n",
    "# menghitung P(A dan B)\n",
    "p_wanita_perokok = len(insurance[(insurance['sex'] == 'female') & (insurance['smoker'] == 'yes')])\n",
    "\n",
    "# menghitung P(B)\n",
    "p_perokok = len(insurance[insurance['smoker'] == 'yes'])\n",
    "\n",
    "# menghitung P(A | B)\n",
    "p_wanita_given_perokok = (p_wanita_perokok / p_perokok)\n",
    "\n",
    "print(\"Peluang seseorang tersebut adalah perempuan diketahui dia adalah perokok adalah: \", p_wanita_given_perokok)\n"
   ]
  },
  {
   "cell_type": "markdown",
   "id": "2934f5a0",
   "metadata": {},
   "source": [
    "### Analisa Variabel Kontinu\n",
    "\n",
    "1. Mana yang lebih mungkin terjadi\n",
    "\n",
    "    a. Seseorang dengan BMI diatas 25 mendapatkan tagihan kesehatan diatas 16.7k, atau\n",
    "\n",
    "    b. Seseorang dengan BMI dibawah 25 mendapatkan tagihan kesehatan diatas 16.7k\n",
    "\n",
    "2. Mana yang lebih mungkin terjadi\n",
    "\n",
    "    a. Seseorang perokok dengan BMI diatas 25 mendapatkan tagihan kesehatan diatas 16.7k, atau\n",
    "\n",
    "    b. Seseorang non perokok dengan BMI diatas 25 mendapatkan tagihan kesehatan\n",
    "    diatas 16.7k\n"
   ]
  },
  {
   "cell_type": "code",
   "execution_count": 15,
   "id": "82e1ede9",
   "metadata": {},
   "outputs": [
    {
     "name": "stdout",
     "output_type": "stream",
     "text": [
      "Proporsi kasus a: 0.21166791323859388\n",
      "Proporsi kasus b: 0.0381451009723261\n"
     ]
    }
   ],
   "source": [
    "# Hitung proporsi data dengan BMI di atas 25 dan tagihan kesehatan di atas 16.7k\n",
    "prop_a = ((insurance['bmi'] > 25) & (insurance['charges'] > 16700)).sum() / len(insurance)\n",
    "\n",
    "# Hitung proporsi data dengan BMI di bawah 25 dan tagihan kesehatan di atas 16.7k\n",
    "prop_b = ((insurance['bmi'] < 25) & (insurance['charges'] > 16700)).sum() / len(insurance)\n",
    "\n",
    "print('Proporsi kasus a:', prop_a)\n",
    "print('Proporsi kasus b:', prop_b)\n"
   ]
  },
  {
   "cell_type": "code",
   "execution_count": 16,
   "id": "65e56f70",
   "metadata": {},
   "outputs": [
    {
     "name": "stdout",
     "output_type": "stream",
     "text": [
      "Proporsi kasus a: 0.16080777860882572\n",
      "Proporsi kasus b: 0.050860134629768135\n"
     ]
    }
   ],
   "source": [
    "# Kasus a\n",
    "a = len(insurance[(insurance['smoker'] == 'yes') & (insurance['bmi'] > 25) & (insurance['charges'] > 16700)])\n",
    "\n",
    "# Kasus b\n",
    "b = len(insurance[(insurance['smoker'] == 'no') & (insurance['bmi'] > 25) & (insurance['charges'] > 16700)])\n",
    "\n",
    "# Proporsi kasus a\n",
    "prop_a = a / len(insurance)\n",
    "\n",
    "# Proporsi kasus b\n",
    "prop_b = b / len(insurance)\n",
    "\n",
    "print(\"Proporsi kasus a:\", prop_a)\n",
    "print(\"Proporsi kasus b:\", prop_b)\n"
   ]
  },
  {
   "cell_type": "markdown",
   "id": "da5415e8",
   "metadata": {},
   "source": [
    "### Analisa Korelasi Variabel"
   ]
  },
  {
   "cell_type": "code",
   "execution_count": 17,
   "id": "ab0eafcc",
   "metadata": {},
   "outputs": [
    {
     "name": "stdout",
     "output_type": "stream",
     "text": [
      "               age       bmi  children   charges\n",
      "age       1.000000  0.109344  0.041536  0.298308\n",
      "bmi       0.109344  1.000000  0.012755  0.198401\n",
      "children  0.041536  0.012755  1.000000  0.067389\n",
      "charges   0.298308  0.198401  0.067389  1.000000\n"
     ]
    },
    {
     "data": {
      "image/png": "[encoded data removed]",
      "text/plain": [
       "<Figure size 640x480 with 2 Axes>"
      ]
     },
     "metadata": {},
     "output_type": "display_data"
    }
   ],
   "source": [
    "# menghitung korelasi antara kolom numerik\n",
    "corr = insurance.corr()\n",
    "\n",
    "# print hasil korelasi\n",
    "print(corr)\n",
    "\n",
    "# menampilkan heatmap\n",
    "sns.heatmap(corr, annot=True, cmap='Reds')\n",
    "plt.show()\n"
   ]
  },
  {
   "cell_type": "markdown",
   "id": "b8352c31",
   "metadata": {},
   "source": [
    "### Pengujian Hipotesis\n",
    "\n",
    "1. Tagihan kesehatan perokok lebih tinggi daripada tagihan kesehatan non perokok\n",
    "2. Tagihan kesehatan dengan BMI diatas 25 lebih tinggi daripada tagihan kesehatan dengan BMI dibawah 25\n",
    "3. Tagihan kesehatan laki-laki lebih besar dari perempuan"
   ]
  },
  {
   "cell_type": "code",
   "execution_count": 52,
   "id": "f35c5f03",
   "metadata": {},
   "outputs": [
    {
     "data": {
      "image/png": "[encoded data removed]",
      "text/plain": [
       "<Figure size 640x480 with 1 Axes>"
      ]
     },
     "metadata": {},
     "output_type": "display_data"
    },
    {
     "name": "stdout",
     "output_type": "stream",
     "text": [
      "t-value: 32.7423097372529\n",
      "p-value: 6.261720774727631e-103\n",
      "Tidak cukup bukti untuk menolak hipotesis nol\n"
     ]
    }
   ],
   "source": [
    "# Tagihan kesehatan perokok lebih tinggi daripada tagihan kesehatan non perokok\n",
    "\n",
    "# buat boxplot untuk menampilkan distribusi tagihan kesehatan perokok dan non-perokok\n",
    "sns.boxplot(x='smoker', y='charges', data=insurance)\n",
    "plt.show()\n",
    "\n",
    "# hitung nilai p menggunakan independent t-test\n",
    "perokok = insurance[insurance['smoker'] == 'yes']['charges']\n",
    "non_perokok = insurance[insurance['smoker'] == 'no']['charges']\n",
    "t, p = ttest_ind(perokok, non_perokok, equal_var=False)\n",
    "\n",
    "# tampilkan hasil uji hipotesis\n",
    "print('t-value:', t)\n",
    "print('p-value:', p)\n",
    "if p > 0.05:\n",
    "    print('Hipotesis nol ditolak, ada perbedaan signifikan antara tagihan kesehatan perokok dan non-perokok')\n",
    "else:\n",
    "    print('Tidak cukup bukti untuk menolak hipotesis nol')\n"
   ]
  },
  {
   "cell_type": "code",
   "execution_count": 20,
   "id": "5bcd5262",
   "metadata": {},
   "outputs": [
    {
     "name": "stdout",
     "output_type": "stream",
     "text": [
      "Statistics = 32.7423, p-value = 0.0000\n",
      "Hipotesis alternatif diterima, tagihan kesehatan perokok lebih tinggi daripada tagihan kesehatan non-perokok\n"
     ]
    }
   ],
   "source": [
    "perokok = insurance[insurance['smoker'] == 'yes']['charges']\n",
    "non_perokok = insurance[insurance['smoker'] == 'no']['charges']\n",
    "\n",
    "# hitung nilai p menggunakan independent t-test\n",
    "stat, p = ttest_ind(a = perokok, b = non_perokok, equal_var=False, alternative='greater') # eaual_var= False karena varians kedua populasi berbeda\n",
    "\n",
    "# Interpretasi Hasil\n",
    "print('Statistics = %.4f, p-value = %.4f' % (stat, p)) \n",
    "\n",
    "# Pengambilan Keputusan\n",
    "if p > 0.05:\n",
    "    print(\"Hipotesis nol gagal ditolak, tidak ada perbedaan signifikan antara tagihan kesehatan perokok dan non-perokok\")\n",
    "else:\n",
    "    print(\"Hipotesis alternatif diterima, tagihan kesehatan perokok lebih tinggi daripada tagihan kesehatan non-perokok\")"
   ]
  },
  {
   "cell_type": "code",
   "execution_count": 21,
   "id": "0e1d8861",
   "metadata": {},
   "outputs": [
    {
     "name": "stdout",
     "output_type": "stream",
     "text": [
      "133207311.20634921\n",
      "35915734.96876324\n",
      "32050.23183153285\n",
      "8440.660306508935\n"
     ]
    }
   ],
   "source": [
    "print(perokok.var())\n",
    "print(non_perokok.var())\n",
    "print(perokok.mean())\n",
    "print(non_perokok.mean())"
   ]
  },
  {
   "cell_type": "code",
   "execution_count": 22,
   "id": "ab63e28f",
   "metadata": {},
   "outputs": [
    {
     "data": {
      "text/plain": [
       "274"
      ]
     },
     "execution_count": 22,
     "metadata": {},
     "output_type": "execute_result"
    }
   ],
   "source": [
    "len(perokok)"
   ]
  },
  {
   "cell_type": "code",
   "execution_count": 23,
   "id": "ff6ea0b7",
   "metadata": {},
   "outputs": [
    {
     "name": "stdout",
     "output_type": "stream",
     "text": [
      "H0 ditolak. Rata-rata tagihan perokok lebih tinggi daripada rata-rata tagihan non-perokok.\n"
     ]
    }
   ],
   "source": [
    "from scipy.stats import norm\n",
    "\n",
    "# input data\n",
    "mean1 = 32050.23183153285\n",
    "mean2 = 8440.660306508935\n",
    "var1 = 133207311.20634921\n",
    "var2 = 35915734.96876324\n",
    "n1 = 274\n",
    "n2 = 1063\n",
    "\n",
    "# hitung z-score\n",
    "num = mean1 - mean2\n",
    "denom = np.sqrt((var1/n1) + (var2/n2))\n",
    "z_score = num / denom\n",
    "\n",
    "# tentukan nilai kritis\n",
    "alpha = 0.05\n",
    "df = n1 + n2 - 2\n",
    "z_alpha = norm.ppf(1 - alpha/2, loc=0, scale=1)\n",
    "\n",
    "# bandingkan dengan nilai kritis\n",
    "if z_score > z_alpha:\n",
    "    print(\"H0 ditolak. Rata-rata tagihan perokok lebih tinggi daripada rata-rata tagihan non-perokok.\")\n",
    "else:\n",
    "    print(\"H0 tidak ditolak. Tidak cukup bukti untuk menyatakan bahwa rata-rata tagihan perokok lebih tinggi daripada rata-rata tagihan non-perokok.\")"
   ]
  },
  {
   "cell_type": "code",
   "execution_count": 24,
   "id": "d9248ad2",
   "metadata": {},
   "outputs": [
    {
     "data": {
      "text/plain": [
       "1.959963984540054"
      ]
     },
     "execution_count": 24,
     "metadata": {},
     "output_type": "execute_result"
    }
   ],
   "source": [
    "z_alpha"
   ]
  },
  {
   "cell_type": "code",
   "execution_count": 25,
   "id": "85a682c2",
   "metadata": {},
   "outputs": [
    {
     "name": "stdout",
     "output_type": "stream",
     "text": [
      "Tingkat signifikansi: 0.05\n",
      "t-value: 4.332975576702388\n",
      "p-value: 1.5812917593118906e-05\n",
      "Hipotesis alternatif diterima, tagihan kesehatan dengan BMI diatas 25 lebih tinggi dari tagihan kesehatan dengan BMI dibawah 25\n"
     ]
    }
   ],
   "source": [
    "# filter data dengan BMI diatas 25 dan dibawah 25\n",
    "above_bmi = insurance[insurance['bmi'] > 25]['charges']\n",
    "below_bmi = insurance[insurance['bmi'] <= 25]['charges']\n",
    "\n",
    "# uji hipotesis\n",
    "alpha = 0.05\n",
    "t_stat, p_val = ttest_ind(above_bmi, below_bmi)\n",
    "\n",
    "if p_val < alpha:\n",
    "    print('Tingkat signifikansi: {}'.format(alpha))\n",
    "    print('t-value: {}'.format(t_stat))\n",
    "    print('p-value: {}'.format(p_val))\n",
    "    print('Hipotesis alternatif diterima, tagihan kesehatan dengan BMI diatas 25 lebih tinggi dari tagihan kesehatan dengan BMI dibawah 25')\n",
    "else:\n",
    "    print('Tingkat signifikansi: {}'.format(alpha))\n",
    "    print('t-value: {}'.format(t_stat))\n",
    "    print('p-value: {}'.format(p_val))\n",
    "    print('Hipotesis nol diterima, tidak terdapat perbedaan signifikan antara tagihan kesehatan dengan BMI diatas 25 dan tagihan kesehatan dengan BMI dibawah 25')"
   ]
  },
  {
   "cell_type": "code",
   "execution_count": 26,
   "id": "857e8190",
   "metadata": {},
   "outputs": [
    {
     "name": "stdout",
     "output_type": "stream",
     "text": [
      "t-value: 2.124391307062026\n",
      "p-value: 0.0338207919951195\n",
      "Hipotesis alternatif diterima, tagihan kesehatan laki-laki lebih besar dari perempuan\n"
     ]
    }
   ],
   "source": [
    "# membuat subset data laki-laki dan perempuan\n",
    "male_insurance = insurance[insurance['sex'] == 'male']\n",
    "female_insurance = insurance[insurance['sex'] == 'female']\n",
    "\n",
    "# menghitung mean tagihan kesehatan untuk masing-masing kelompok\n",
    "male_mean_charge = male_insurance['charges'].mean()\n",
    "female_mean_charge = female_insurance['charges'].mean()\n",
    "\n",
    "# uji perbedaan mean menggunakan t-test\n",
    "t, p = ttest_ind(male_insurance['charges'], female_insurance['charges'])\n",
    "print('t-value:', t)\n",
    "print('p-value:', p)\n",
    "\n",
    "if p < 0.05:\n",
    "    print('Hipotesis alternatif diterima, tagihan kesehatan laki-laki lebih besar dari perempuan')\n",
    "else:\n",
    "    print('Hipotesis nol diterima, tidak ada perbedaan yang signifikan antara tagihan kesehatan laki-laki dan perempuan')"
   ]
  },
  {
   "cell_type": "code",
   "execution_count": null,
   "id": "8279df12",
   "metadata": {},
   "outputs": [],
   "source": []
  }
 ],
 "metadata": {
  "kernelspec": {
   "display_name": "Python 3 (ipykernel)",
   "language": "python",
   "name": "python3"
  },
  "language_info": {
   "codemirror_mode": {
    "name": "ipython",
    "version": 3
   },
   "file_extension": ".py",
   "mimetype": "text/x-python",
   "name": "python",
   "nbconvert_exporter": "python",
   "pygments_lexer": "ipython3",
   "version": "3.9.13"
  }
 },
 "nbformat": 4,
 "nbformat_minor": 5
}
